{
 "cells": [
  {
   "cell_type": "markdown",
   "metadata": {
    "colab_type": "text",
    "id": "eDC14e2PsOb0"
   },
   "source": [
    "# Neural Style Transfer with Adversarially Robust Classifiers\n",
    "\n",
    "This is an accompanying notebook for the blog post https://reiinakano.com/2019/06/21/robust-neural-style-transfer.html\n",
    "\n",
    "This code is not meant to be run without a GPU.\n"
   ]
  },
  {
   "cell_type": "markdown",
   "metadata": {
    "colab_type": "text",
    "id": "jN2jELwBKnjw"
   },
   "source": [
    "This has been merged with 'neural transfer using pytorch' documentation\n",
    "\n",
    "\n",
    "TRAINS - Example of Pytorch and matplotlib integration and reporting\n",
    "\n",
    "\"\"\"\n",
    "Neural Transfer Using PyTorch\n",
    "=============================\n",
    "**Author**: `Alexis Jacq <https://alexis-jacq.github.io>`_\n",
    "**Edited by**: `Winston Herring <https://github.com/winston6>`_\n",
    "Introduction\n",
    "------------\n",
    "This tutorial explains how to implement the `Neural-Style algorithm <https://arxiv.org/abs/1508.06576>`__\n",
    "developed by Leon A. Gatys, Alexander S. Ecker and Matthias Bethge.\n",
    "Neural-Style, or Neural-Transfer, allows you to take an image and\n",
    "reproduce it with a new artistic style. The algorithm takes three images,\n",
    "an input image, a content-image, and a style-image, and changes the input\n",
    "to resemble the content of the content-image and the artistic style of the style-image.\n",
    ".. figure:: /_static/img/neural-style/neuralstyle.png\n",
    "   :alt: content1\n",
    "\"\"\"\n",
    "\n",
    "#####################################################################\n",
    " Underlying Principle\n",
    " --------------------\n",
    "\n",
    " The principle is simple: we define two distances, one for the content\n",
    " (:math:`D_C`) and one for the style (:math:`D_S`). :math:`D_C` measures how different the content\n",
    " is between two images while :math:`D_S` measures how different the style is\n",
    " between two images. Then, we take a third image, the input, and\n",
    " transform it to minimize both its content-distance with the\n",
    " content-image and its style-distance with the style-image. Now we can\n",
    " import the necessary packages and begin the neural transfer.\n",
    "\n",
    "#Importing Packages and Selecting a Device\n",
    " -----------------------------------------\n",
    " Below is a  list of the packages needed to implement the neural transfer. (robustness_lib not included!)\n",
    "\n",
    " -  ``torch``, ``torch.nn``, ``numpy`` (indispensables packages for\n",
    "    neural networks with PyTorch)\n",
    " -  ``torch.optim`` (efficient gradient descents)\n",
    " -  ``PIL``, ``PIL.Image``, ``matplotlib.pyplot`` (load and display\n",
    "    images)\n",
    " -  ``torchvision.transforms`` (transform PIL images into tensors)\n",
    " -  ``torchvision.models`` (train or load pre-trained models)\n",
    " -  ``copy`` (to deep copy the models; system package)"
   ]
  },
  {
   "cell_type": "markdown",
   "metadata": {
    "colab_type": "text",
    "id": "I7niX5mqsucG"
   },
   "source": [
    "## Download dependencies and sample images"
   ]
  },
  {
   "cell_type": "code",
   "execution_count": null,
   "metadata": {
    "colab": {
     "base_uri": "https://localhost:8080/",
     "height": 241
    },
    "colab_type": "code",
    "executionInfo": {
     "elapsed": 13455,
     "status": "ok",
     "timestamp": 1562000285007,
     "user": {
      "displayName": "Jesse Woellhof",
      "photoUrl": "https://lh5.googleusercontent.com/-KfTzQgdCJLU/AAAAAAAAAAI/AAAAAAAAEnM/-0NVqTuM3hY/s64/photo.jpg",
      "userId": "00057452597273831456"
     },
     "user_tz": 240
    },
    "id": "413ACUTUCe-2",
    "outputId": "c1093406-54c4-4e15-f38e-47e0c19798b2"
   },
   "outputs": [],
   "source": [
    "#!git clone https://github.com/red8top/robustness_lib.git /home/robustness_lib\n",
    "#!wget https://s3-us-west-2.amazonaws.com/andrewilyas.com/RestrictedImageNet.pt -O /home/RestrictedImageNet.pt"
   ]
  },
  {
   "cell_type": "code",
   "execution_count": null,
   "metadata": {
    "colab": {
     "base_uri": "https://localhost:8080/",
     "height": 34
    },
    "colab_type": "code",
    "executionInfo": {
     "elapsed": 2495,
     "status": "ok",
     "timestamp": 1561998502354,
     "user": {
      "displayName": "Jesse Woellhof",
      "photoUrl": "https://lh5.googleusercontent.com/-KfTzQgdCJLU/AAAAAAAAAAI/AAAAAAAAEnM/-0NVqTuM3hY/s64/photo.jpg",
      "userId": "00057452597273831456"
     },
     "user_tz": 240
    },
    "id": "rHS1jBpeXZNg",
    "outputId": "f006333c-d0af-40f5-e41d-e380a3c004a2"
   },
   "outputs": [],
   "source": [
    "!pwd"
   ]
  },
  {
   "cell_type": "code",
   "execution_count": null,
   "metadata": {
    "colab": {
     "base_uri": "https://localhost:8080/",
     "height": 309
    },
    "colab_type": "code",
    "executionInfo": {
     "elapsed": 18731,
     "status": "ok",
     "timestamp": 1561998567379,
     "user": {
      "displayName": "Jesse Woellhof",
      "photoUrl": "https://lh5.googleusercontent.com/-KfTzQgdCJLU/AAAAAAAAAAI/AAAAAAAAEnM/-0NVqTuM3hY/s64/photo.jpg",
      "userId": "00057452597273831456"
     },
     "user_tz": 240
    },
    "id": "dlDKRXHS8eyf",
    "outputId": "2f7fffa4-aa3c-4949-ec3e-7d02e02090ba"
   },
   "outputs": [],
   "source": [
    "#!ls /home\n",
    "#!ls /content/drive/My\\ Drive/pics/RobustResNET\n",
    "#!cp /content/drive/My\\ Drive/pics/RobustResNET/* ./"
   ]
  },
  {
   "cell_type": "code",
   "execution_count": null,
   "metadata": {
    "colab": {
     "base_uri": "https://localhost:8080/",
     "height": 1000
    },
    "colab_type": "code",
    "executionInfo": {
     "elapsed": 8360,
     "status": "ok",
     "timestamp": 1561724066935,
     "user": {
      "displayName": "Jesse Woellhof",
      "photoUrl": "https://lh5.googleusercontent.com/-KfTzQgdCJLU/AAAAAAAAAAI/AAAAAAAAEnM/-0NVqTuM3hY/s64/photo.jpg",
      "userId": "00057452597273831456"
     },
     "user_tz": 240
    },
    "id": "VeEe1NIJMnjt",
    "outputId": "0920e92c-72f9-4223-c2ac-b1c4a3b45125",
    "scrolled": true
   },
   "outputs": [],
   "source": [
    "!wget https://pytorch.org/tutorials/_static/img/neural-style/picasso.jpg\n",
    "!wget https://pytorch.org/tutorials/_static/img/neural-style/dancing.jpg\n",
    "!wget https://storage.googleapis.com/tensorflow-lucid/static/img/notebook-styletransfer-bigben.jpg\n",
    "!wget https://storage.googleapis.com/tensorflow-lucid/static/img/starry-night.png\n",
    "!wget https://raw.githubusercontent.com/jcjohnson/neural-style/master/examples/inputs/the_scream.jpg\n",
    "!wget https://raw.git\n",
    "!wget https://raw.githubusercontent.com/jcjohnson/neural-style/master/examples/inputs/tubingen.jpghubusercontent.com/jcjohnson/neural-style/master/examples/inputs/escher_sphere.jpg\n",
    "!wget https://raw.githubusercontent.com/jcjohnson/neural-style/master/examples/inputs/woman-with-hat-matisse.jpg\n",
    "!wget https://images.academics.com/working-in-tuebingen.jpg"
   ]
  },
  {
   "cell_type": "code",
   "execution_count": null,
   "metadata": {
    "colab": {
     "base_uri": "https://localhost:8080/",
     "height": 122
    },
    "colab_type": "code",
    "executionInfo": {
     "elapsed": 22136,
     "status": "ok",
     "timestamp": 1561997571948,
     "user": {
      "displayName": "Jesse Woellhof",
      "photoUrl": "https://lh5.googleusercontent.com/-KfTzQgdCJLU/AAAAAAAAAAI/AAAAAAAAEnM/-0NVqTuM3hY/s64/photo.jpg",
      "userId": "00057452597273831456"
     },
     "user_tz": 240
    },
    "id": "_LMdQXq58s2Z",
    "outputId": "d61ed23f-74a9-4e4a-abfb-acb9268a1003"
   },
   "outputs": [],
   "source": [
    "# Run this cell to mount your Google Drive.\n",
    "from google.colab import drive\n",
    "drive.mount('/content/drive')"
   ]
  },
  {
   "cell_type": "code",
   "execution_count": null,
   "metadata": {
    "colab": {
     "base_uri": "https://localhost:8080/",
     "height": 1000
    },
    "colab_type": "code",
    "executionInfo": {
     "elapsed": 4264,
     "status": "ok",
     "timestamp": 1561998591921,
     "user": {
      "displayName": "Jesse Woellhof",
      "photoUrl": "https://lh5.googleusercontent.com/-KfTzQgdCJLU/AAAAAAAAAAI/AAAAAAAAEnM/-0NVqTuM3hY/s64/photo.jpg",
      "userId": "00057452597273831456"
     },
     "user_tz": 240
    },
    "id": "rYC1dxU-W7DR",
    "outputId": "87d3de5a-67d4-4398-f46e-c4aebccff706"
   },
   "outputs": [],
   "source": [
    "!pip install trains"
   ]
  },
  {
   "cell_type": "markdown",
   "metadata": {
    "colab_type": "text",
    "id": "id06vNOVSfLg"
   },
   "source": [
    "#YOU CAN RUN EVERYTHING FROM THIS ONE SCRIPT AND THEN THE FOLLOWING CODE CHUNK"
   ]
  },
  {
   "cell_type": "code",
   "execution_count": 2,
   "metadata": {
    "colab": {},
    "colab_type": "code",
    "id": "Sp8WQfzAjkg1"
   },
   "outputs": [],
   "source": [
    "!mkdir testrun"
   ]
  },
  {
   "cell_type": "code",
   "execution_count": 11,
   "metadata": {},
   "outputs": [
    {
     "name": "stdout",
     "output_type": "stream",
     "text": [
      "/home/jesse/Documents/robustness_lib\r\n"
     ]
    }
   ],
   "source": [
    "!pwd"
   ]
  },
  {
   "cell_type": "code",
   "execution_count": 1,
   "metadata": {},
   "outputs": [
    {
     "name": "stdout",
     "output_type": "stream",
     "text": [
      "TRAINS Task: created new task id=b2509e6365ca4ece93b12210abe148ea\n",
      "======> WARNING! UNCOMMITTED CHANGES IN REPOSITORY git@github.com:red8top/robustness_lib.git <======\n",
      "TRAINS results page: http://localhost:8080/projects/491f17dfa2d643129f9efc16002e9f61/experiments/b2509e6365ca4ece93b12210abe148ea/output/log\n"
     ]
    }
   ],
   "source": [
    "from trains import Task\n",
    "\n",
    "\n",
    "task = Task.init(project_name='stylegan', task_name='pytorch stylegan onescript', task_type=Task.TaskTypes.testing)\n",
    "\n"
   ]
  },
  {
   "cell_type": "code",
   "execution_count": 2,
   "metadata": {
    "colab": {
     "base_uri": "https://localhost:8080/",
     "height": 1000,
     "output_embedded_package_id": "1hh0AFUDKMJwzkT2w-dOEc877ciaywJqr"
    },
    "colab_type": "code",
    "executionInfo": {
     "elapsed": 45499,
     "status": "ok",
     "timestamp": 1562002043892,
     "user": {
      "displayName": "Jesse Woellhof",
      "photoUrl": "https://lh5.googleusercontent.com/-KfTzQgdCJLU/AAAAAAAAAAI/AAAAAAAAEnM/-0NVqTuM3hY/s64/photo.jpg",
      "userId": "00057452597273831456"
     },
     "user_tz": 240
    },
    "id": "sQpelHEkSlXd",
    "outputId": "143de62a-d72d-49f7-e637-56742f70cbc4"
   },
   "outputs": [
    {
     "name": "stderr",
     "output_type": "stream",
     "text": [
      "/usr/local/lib/python3.6/dist-packages/plotly/matplotlylib/mpltools.py:368: MatplotlibDeprecationWarning:\n",
      "\n",
      "\n",
      "The is_frame_like function was deprecated in Matplotlib 3.1 and will be removed in 3.3.\n",
      "\n"
     ]
    },
    {
     "data": {
      "image/png": "[encoded data removed]",
      "text/plain": [
       "<Figure size 432x288 with 1 Axes>"
      ]
     },
     "metadata": {},
     "output_type": "display_data"
    },
    {
     "data": {
      "image/png": "[encoded data removed]",
      "text/plain": [
       "<Figure size 432x288 with 1 Axes>"
      ]
     },
     "metadata": {},
     "output_type": "display_data"
    },
    {
     "name": "stdout",
     "output_type": "stream",
     "text": [
      "=> loading checkpoint '/home/jesse/Documents/robustness_lib/RestrictedImageNet.pt'\n"
     ]
    },
    {
     "ename": "RuntimeError",
     "evalue": "Attempting to deserialize object on a CUDA device but torch.cuda.is_available() is False. If you are running on a CPU-only machine, please use torch.load with map_location='cpu' to map your storages to the CPU.",
     "output_type": "error",
     "traceback": [
      "\u001b[0;31m---------------------------------------------------------------------------\u001b[0m",
      "\u001b[0;31mRuntimeError\u001b[0m                              Traceback (most recent call last)",
      "\u001b[0;32m/home/jesse/Documents/robustness_lib/runAllAtOncestylegan2.py\u001b[0m in \u001b[0;36m<module>\u001b[0;34m()\u001b[0m\n\u001b[1;32m    202\u001b[0m \u001b[0;34m\u001b[0m\u001b[0m\n\u001b[1;32m    203\u001b[0m \u001b[0;31m# Robust ResNet\u001b[0m\u001b[0;34m\u001b[0m\u001b[0;34m\u001b[0m\u001b[0;34m\u001b[0m\u001b[0m\n\u001b[0;32m--> 204\u001b[0;31m \u001b[0mmodel\u001b[0m\u001b[0;34m,\u001b[0m \u001b[0mckpt\u001b[0m \u001b[0;34m=\u001b[0m \u001b[0mmodel_utils\u001b[0m\u001b[0;34m.\u001b[0m\u001b[0mmake_and_restore_model\u001b[0m\u001b[0;34m(\u001b[0m\u001b[0;34m**\u001b[0m\u001b[0mmodel_kwargs\u001b[0m\u001b[0;34m)\u001b[0m\u001b[0;34m\u001b[0m\u001b[0;34m\u001b[0m\u001b[0m\n\u001b[0m\u001b[1;32m    205\u001b[0m \u001b[0mrobust_resnet\u001b[0m \u001b[0;34m=\u001b[0m \u001b[0mmodel\u001b[0m\u001b[0;34m.\u001b[0m\u001b[0mmodel\u001b[0m\u001b[0;34m\u001b[0m\u001b[0;34m\u001b[0m\u001b[0m\n\u001b[1;32m    206\u001b[0m \u001b[0;34m\u001b[0m\u001b[0m\n",
      "\u001b[0;32m/home/jesse/Documents/robustness_lib/robustness/model_utils.py\u001b[0m in \u001b[0;36mmake_and_restore_model\u001b[0;34m(arch, dataset, resume_path, state_dict_path, resume_epoch, parallel, *_)\u001b[0m\n\u001b[1;32m     25\u001b[0m         \u001b[0;32mif\u001b[0m \u001b[0mos\u001b[0m\u001b[0;34m.\u001b[0m\u001b[0mpath\u001b[0m\u001b[0;34m.\u001b[0m\u001b[0misfile\u001b[0m\u001b[0;34m(\u001b[0m\u001b[0mresume_path\u001b[0m\u001b[0;34m)\u001b[0m\u001b[0;34m:\u001b[0m\u001b[0;34m\u001b[0m\u001b[0;34m\u001b[0m\u001b[0m\n\u001b[1;32m     26\u001b[0m             \u001b[0mprint\u001b[0m\u001b[0;34m(\u001b[0m\u001b[0;34m\"=> loading checkpoint '{}'\"\u001b[0m\u001b[0;34m.\u001b[0m\u001b[0mformat\u001b[0m\u001b[0;34m(\u001b[0m\u001b[0mresume_path\u001b[0m\u001b[0;34m)\u001b[0m\u001b[0;34m)\u001b[0m\u001b[0;34m\u001b[0m\u001b[0;34m\u001b[0m\u001b[0m\n\u001b[0;32m---> 27\u001b[0;31m             \u001b[0mcheckpoint\u001b[0m \u001b[0;34m=\u001b[0m \u001b[0mch\u001b[0m\u001b[0;34m.\u001b[0m\u001b[0mload\u001b[0m\u001b[0;34m(\u001b[0m\u001b[0mresume_path\u001b[0m\u001b[0;34m,\u001b[0m \u001b[0mpickle_module\u001b[0m\u001b[0;34m=\u001b[0m\u001b[0mdill\u001b[0m\u001b[0;34m)\u001b[0m\u001b[0;34m\u001b[0m\u001b[0;34m\u001b[0m\u001b[0m\n\u001b[0m\u001b[1;32m     28\u001b[0m \u001b[0;34m\u001b[0m\u001b[0m\n\u001b[1;32m     29\u001b[0m             \u001b[0;32mif\u001b[0m \u001b[0mstate_dict_path\u001b[0m \u001b[0;34m==\u001b[0m \u001b[0;34m'model'\u001b[0m \u001b[0;32mand\u001b[0m \u001b[0;32mnot\u001b[0m \u001b[0;34m(\u001b[0m\u001b[0;34m'model'\u001b[0m \u001b[0;32min\u001b[0m \u001b[0mcheckpoint\u001b[0m\u001b[0;34m)\u001b[0m\u001b[0;34m:\u001b[0m\u001b[0;34m\u001b[0m\u001b[0;34m\u001b[0m\u001b[0m\n",
      "\u001b[0;32m/usr/local/lib/python3.6/dist-packages/trains/binding/frameworks/__init__.py\u001b[0m in \u001b[0;36m_inner_patch\u001b[0;34m(*args, **kwargs)\u001b[0m\n\u001b[1;32m     23\u001b[0m             \u001b[0mret\u001b[0m \u001b[0;34m=\u001b[0m \u001b[0mpatched_fn\u001b[0m\u001b[0;34m(\u001b[0m\u001b[0moriginal_fn\u001b[0m\u001b[0;34m,\u001b[0m \u001b[0;34m*\u001b[0m\u001b[0margs\u001b[0m\u001b[0;34m,\u001b[0m \u001b[0;34m**\u001b[0m\u001b[0mkwargs\u001b[0m\u001b[0;34m)\u001b[0m\u001b[0;34m\u001b[0m\u001b[0;34m\u001b[0m\u001b[0m\n\u001b[1;32m     24\u001b[0m         \u001b[0;32mexcept\u001b[0m \u001b[0mException\u001b[0m \u001b[0;32mas\u001b[0m \u001b[0mex\u001b[0m\u001b[0;34m:\u001b[0m\u001b[0;34m\u001b[0m\u001b[0;34m\u001b[0m\u001b[0m\n\u001b[0;32m---> 25\u001b[0;31m             \u001b[0;32mraise\u001b[0m \u001b[0mex\u001b[0m\u001b[0;34m\u001b[0m\u001b[0;34m\u001b[0m\u001b[0m\n\u001b[0m\u001b[1;32m     26\u001b[0m         \u001b[0;32mfinally\u001b[0m\u001b[0;34m:\u001b[0m\u001b[0;34m\u001b[0m\u001b[0;34m\u001b[0m\u001b[0m\n\u001b[1;32m     27\u001b[0m             \u001b[0;32mtry\u001b[0m\u001b[0;34m:\u001b[0m\u001b[0;34m\u001b[0m\u001b[0;34m\u001b[0m\u001b[0m\n",
      "\u001b[0;32m/usr/local/lib/python3.6/dist-packages/trains/binding/frameworks/__init__.py\u001b[0m in \u001b[0;36m_inner_patch\u001b[0;34m(*args, **kwargs)\u001b[0m\n\u001b[1;32m     21\u001b[0m         \u001b[0mret\u001b[0m \u001b[0;34m=\u001b[0m \u001b[0;32mNone\u001b[0m\u001b[0;34m\u001b[0m\u001b[0;34m\u001b[0m\u001b[0m\n\u001b[1;32m     22\u001b[0m         \u001b[0;32mtry\u001b[0m\u001b[0;34m:\u001b[0m\u001b[0;34m\u001b[0m\u001b[0;34m\u001b[0m\u001b[0m\n\u001b[0;32m---> 23\u001b[0;31m             \u001b[0mret\u001b[0m \u001b[0;34m=\u001b[0m \u001b[0mpatched_fn\u001b[0m\u001b[0;34m(\u001b[0m\u001b[0moriginal_fn\u001b[0m\u001b[0;34m,\u001b[0m \u001b[0;34m*\u001b[0m\u001b[0margs\u001b[0m\u001b[0;34m,\u001b[0m \u001b[0;34m**\u001b[0m\u001b[0mkwargs\u001b[0m\u001b[0;34m)\u001b[0m\u001b[0;34m\u001b[0m\u001b[0;34m\u001b[0m\u001b[0m\n\u001b[0m\u001b[1;32m     24\u001b[0m         \u001b[0;32mexcept\u001b[0m \u001b[0mException\u001b[0m \u001b[0;32mas\u001b[0m \u001b[0mex\u001b[0m\u001b[0;34m:\u001b[0m\u001b[0;34m\u001b[0m\u001b[0;34m\u001b[0m\u001b[0m\n\u001b[1;32m     25\u001b[0m             \u001b[0;32mraise\u001b[0m \u001b[0mex\u001b[0m\u001b[0;34m\u001b[0m\u001b[0;34m\u001b[0m\u001b[0m\n",
      "\u001b[0;32m/usr/local/lib/python3.6/dist-packages/trains/binding/frameworks/pytorch_bind.py\u001b[0m in \u001b[0;36m_load\u001b[0;34m(original_fn, f, *args, **kwargs)\u001b[0m\n\u001b[1;32m     89\u001b[0m         \u001b[0;32melse\u001b[0m\u001b[0;34m:\u001b[0m\u001b[0;34m\u001b[0m\u001b[0;34m\u001b[0m\u001b[0m\n\u001b[1;32m     90\u001b[0m             \u001b[0;31m# try to load model before registering, in case we fail\u001b[0m\u001b[0;34m\u001b[0m\u001b[0;34m\u001b[0m\u001b[0;34m\u001b[0m\u001b[0m\n\u001b[0;32m---> 91\u001b[0;31m             \u001b[0mmodel\u001b[0m \u001b[0;34m=\u001b[0m \u001b[0moriginal_fn\u001b[0m\u001b[0;34m(\u001b[0m\u001b[0mfilename\u001b[0m \u001b[0;32mor\u001b[0m \u001b[0mf\u001b[0m\u001b[0;34m,\u001b[0m \u001b[0;34m*\u001b[0m\u001b[0margs\u001b[0m\u001b[0;34m,\u001b[0m \u001b[0;34m**\u001b[0m\u001b[0mkwargs\u001b[0m\u001b[0;34m)\u001b[0m\u001b[0;34m\u001b[0m\u001b[0;34m\u001b[0m\u001b[0m\n\u001b[0m\u001b[1;32m     92\u001b[0m             WeightsFileHandler.restore_weights_file(empty, filename, Framework.pytorch,\n\u001b[1;32m     93\u001b[0m                                                     PatchPyTorchModelIO.__main_task)\n",
      "\u001b[0;32m/usr/local/lib/python3.6/dist-packages/torch/serialization.py\u001b[0m in \u001b[0;36mload\u001b[0;34m(f, map_location, pickle_module, **pickle_load_args)\u001b[0m\n\u001b[1;32m    385\u001b[0m         \u001b[0mf\u001b[0m \u001b[0;34m=\u001b[0m \u001b[0mf\u001b[0m\u001b[0;34m.\u001b[0m\u001b[0mopen\u001b[0m\u001b[0;34m(\u001b[0m\u001b[0;34m'rb'\u001b[0m\u001b[0;34m)\u001b[0m\u001b[0;34m\u001b[0m\u001b[0;34m\u001b[0m\u001b[0m\n\u001b[1;32m    386\u001b[0m     \u001b[0;32mtry\u001b[0m\u001b[0;34m:\u001b[0m\u001b[0;34m\u001b[0m\u001b[0;34m\u001b[0m\u001b[0m\n\u001b[0;32m--> 387\u001b[0;31m         \u001b[0;32mreturn\u001b[0m \u001b[0m_load\u001b[0m\u001b[0;34m(\u001b[0m\u001b[0mf\u001b[0m\u001b[0;34m,\u001b[0m \u001b[0mmap_location\u001b[0m\u001b[0;34m,\u001b[0m \u001b[0mpickle_module\u001b[0m\u001b[0;34m,\u001b[0m \u001b[0;34m**\u001b[0m\u001b[0mpickle_load_args\u001b[0m\u001b[0;34m)\u001b[0m\u001b[0;34m\u001b[0m\u001b[0;34m\u001b[0m\u001b[0m\n\u001b[0m\u001b[1;32m    388\u001b[0m     \u001b[0;32mfinally\u001b[0m\u001b[0;34m:\u001b[0m\u001b[0;34m\u001b[0m\u001b[0;34m\u001b[0m\u001b[0m\n\u001b[1;32m    389\u001b[0m         \u001b[0;32mif\u001b[0m \u001b[0mnew_fd\u001b[0m\u001b[0;34m:\u001b[0m\u001b[0;34m\u001b[0m\u001b[0;34m\u001b[0m\u001b[0m\n",
      "\u001b[0;32m/usr/local/lib/python3.6/dist-packages/torch/serialization.py\u001b[0m in \u001b[0;36m_load\u001b[0;34m(f, map_location, pickle_module, **pickle_load_args)\u001b[0m\n\u001b[1;32m    572\u001b[0m     \u001b[0munpickler\u001b[0m \u001b[0;34m=\u001b[0m \u001b[0mpickle_module\u001b[0m\u001b[0;34m.\u001b[0m\u001b[0mUnpickler\u001b[0m\u001b[0;34m(\u001b[0m\u001b[0mf\u001b[0m\u001b[0;34m,\u001b[0m \u001b[0;34m**\u001b[0m\u001b[0mpickle_load_args\u001b[0m\u001b[0;34m)\u001b[0m\u001b[0;34m\u001b[0m\u001b[0;34m\u001b[0m\u001b[0m\n\u001b[1;32m    573\u001b[0m     \u001b[0munpickler\u001b[0m\u001b[0;34m.\u001b[0m\u001b[0mpersistent_load\u001b[0m \u001b[0;34m=\u001b[0m \u001b[0mpersistent_load\u001b[0m\u001b[0;34m\u001b[0m\u001b[0;34m\u001b[0m\u001b[0m\n\u001b[0;32m--> 574\u001b[0;31m     \u001b[0mresult\u001b[0m \u001b[0;34m=\u001b[0m \u001b[0munpickler\u001b[0m\u001b[0;34m.\u001b[0m\u001b[0mload\u001b[0m\u001b[0;34m(\u001b[0m\u001b[0;34m)\u001b[0m\u001b[0;34m\u001b[0m\u001b[0;34m\u001b[0m\u001b[0m\n\u001b[0m\u001b[1;32m    575\u001b[0m \u001b[0;34m\u001b[0m\u001b[0m\n\u001b[1;32m    576\u001b[0m     \u001b[0mdeserialized_storage_keys\u001b[0m \u001b[0;34m=\u001b[0m \u001b[0mpickle_module\u001b[0m\u001b[0;34m.\u001b[0m\u001b[0mload\u001b[0m\u001b[0;34m(\u001b[0m\u001b[0mf\u001b[0m\u001b[0;34m,\u001b[0m \u001b[0;34m**\u001b[0m\u001b[0mpickle_load_args\u001b[0m\u001b[0;34m)\u001b[0m\u001b[0;34m\u001b[0m\u001b[0;34m\u001b[0m\u001b[0m\n",
      "\u001b[0;32m/usr/local/lib/python3.6/dist-packages/torch/serialization.py\u001b[0m in \u001b[0;36mpersistent_load\u001b[0;34m(saved_id)\u001b[0m\n\u001b[1;32m    535\u001b[0m                 \u001b[0mobj\u001b[0m \u001b[0;34m=\u001b[0m \u001b[0mdata_type\u001b[0m\u001b[0;34m(\u001b[0m\u001b[0msize\u001b[0m\u001b[0;34m)\u001b[0m\u001b[0;34m\u001b[0m\u001b[0;34m\u001b[0m\u001b[0m\n\u001b[1;32m    536\u001b[0m                 \u001b[0mobj\u001b[0m\u001b[0;34m.\u001b[0m\u001b[0m_torch_load_uninitialized\u001b[0m \u001b[0;34m=\u001b[0m \u001b[0;32mTrue\u001b[0m\u001b[0;34m\u001b[0m\u001b[0;34m\u001b[0m\u001b[0m\n\u001b[0;32m--> 537\u001b[0;31m                 \u001b[0mdeserialized_objects\u001b[0m\u001b[0;34m[\u001b[0m\u001b[0mroot_key\u001b[0m\u001b[0;34m]\u001b[0m \u001b[0;34m=\u001b[0m \u001b[0mrestore_location\u001b[0m\u001b[0;34m(\u001b[0m\u001b[0mobj\u001b[0m\u001b[0;34m,\u001b[0m \u001b[0mlocation\u001b[0m\u001b[0;34m)\u001b[0m\u001b[0;34m\u001b[0m\u001b[0;34m\u001b[0m\u001b[0m\n\u001b[0m\u001b[1;32m    538\u001b[0m             \u001b[0mstorage\u001b[0m \u001b[0;34m=\u001b[0m \u001b[0mdeserialized_objects\u001b[0m\u001b[0;34m[\u001b[0m\u001b[0mroot_key\u001b[0m\u001b[0;34m]\u001b[0m\u001b[0;34m\u001b[0m\u001b[0;34m\u001b[0m\u001b[0m\n\u001b[1;32m    539\u001b[0m             \u001b[0;32mif\u001b[0m \u001b[0mview_metadata\u001b[0m \u001b[0;32mis\u001b[0m \u001b[0;32mnot\u001b[0m \u001b[0;32mNone\u001b[0m\u001b[0;34m:\u001b[0m\u001b[0;34m\u001b[0m\u001b[0;34m\u001b[0m\u001b[0m\n",
      "\u001b[0;32m/usr/local/lib/python3.6/dist-packages/torch/serialization.py\u001b[0m in \u001b[0;36mdefault_restore_location\u001b[0;34m(storage, location)\u001b[0m\n\u001b[1;32m    117\u001b[0m \u001b[0;32mdef\u001b[0m \u001b[0mdefault_restore_location\u001b[0m\u001b[0;34m(\u001b[0m\u001b[0mstorage\u001b[0m\u001b[0;34m,\u001b[0m \u001b[0mlocation\u001b[0m\u001b[0;34m)\u001b[0m\u001b[0;34m:\u001b[0m\u001b[0;34m\u001b[0m\u001b[0;34m\u001b[0m\u001b[0m\n\u001b[1;32m    118\u001b[0m     \u001b[0;32mfor\u001b[0m \u001b[0m_\u001b[0m\u001b[0;34m,\u001b[0m \u001b[0m_\u001b[0m\u001b[0;34m,\u001b[0m \u001b[0mfn\u001b[0m \u001b[0;32min\u001b[0m \u001b[0m_package_registry\u001b[0m\u001b[0;34m:\u001b[0m\u001b[0;34m\u001b[0m\u001b[0;34m\u001b[0m\u001b[0m\n\u001b[0;32m--> 119\u001b[0;31m         \u001b[0mresult\u001b[0m \u001b[0;34m=\u001b[0m \u001b[0mfn\u001b[0m\u001b[0;34m(\u001b[0m\u001b[0mstorage\u001b[0m\u001b[0;34m,\u001b[0m \u001b[0mlocation\u001b[0m\u001b[0;34m)\u001b[0m\u001b[0;34m\u001b[0m\u001b[0;34m\u001b[0m\u001b[0m\n\u001b[0m\u001b[1;32m    120\u001b[0m         \u001b[0;32mif\u001b[0m \u001b[0mresult\u001b[0m \u001b[0;32mis\u001b[0m \u001b[0;32mnot\u001b[0m \u001b[0;32mNone\u001b[0m\u001b[0;34m:\u001b[0m\u001b[0;34m\u001b[0m\u001b[0;34m\u001b[0m\u001b[0m\n\u001b[1;32m    121\u001b[0m             \u001b[0;32mreturn\u001b[0m \u001b[0mresult\u001b[0m\u001b[0;34m\u001b[0m\u001b[0;34m\u001b[0m\u001b[0m\n",
      "\u001b[0;32m/usr/local/lib/python3.6/dist-packages/torch/serialization.py\u001b[0m in \u001b[0;36m_cuda_deserialize\u001b[0;34m(obj, location)\u001b[0m\n\u001b[1;32m     93\u001b[0m \u001b[0;32mdef\u001b[0m \u001b[0m_cuda_deserialize\u001b[0m\u001b[0;34m(\u001b[0m\u001b[0mobj\u001b[0m\u001b[0;34m,\u001b[0m \u001b[0mlocation\u001b[0m\u001b[0;34m)\u001b[0m\u001b[0;34m:\u001b[0m\u001b[0;34m\u001b[0m\u001b[0;34m\u001b[0m\u001b[0m\n\u001b[1;32m     94\u001b[0m     \u001b[0;32mif\u001b[0m \u001b[0mlocation\u001b[0m\u001b[0;34m.\u001b[0m\u001b[0mstartswith\u001b[0m\u001b[0;34m(\u001b[0m\u001b[0;34m'cuda'\u001b[0m\u001b[0;34m)\u001b[0m\u001b[0;34m:\u001b[0m\u001b[0;34m\u001b[0m\u001b[0;34m\u001b[0m\u001b[0m\n\u001b[0;32m---> 95\u001b[0;31m         \u001b[0mdevice\u001b[0m \u001b[0;34m=\u001b[0m \u001b[0mvalidate_cuda_device\u001b[0m\u001b[0;34m(\u001b[0m\u001b[0mlocation\u001b[0m\u001b[0;34m)\u001b[0m\u001b[0;34m\u001b[0m\u001b[0;34m\u001b[0m\u001b[0m\n\u001b[0m\u001b[1;32m     96\u001b[0m         \u001b[0;32mif\u001b[0m \u001b[0mgetattr\u001b[0m\u001b[0;34m(\u001b[0m\u001b[0mobj\u001b[0m\u001b[0;34m,\u001b[0m \u001b[0;34m\"_torch_load_uninitialized\"\u001b[0m\u001b[0;34m,\u001b[0m \u001b[0;32mFalse\u001b[0m\u001b[0;34m)\u001b[0m\u001b[0;34m:\u001b[0m\u001b[0;34m\u001b[0m\u001b[0;34m\u001b[0m\u001b[0m\n\u001b[1;32m     97\u001b[0m             \u001b[0mstorage_type\u001b[0m \u001b[0;34m=\u001b[0m \u001b[0mgetattr\u001b[0m\u001b[0;34m(\u001b[0m\u001b[0mtorch\u001b[0m\u001b[0;34m.\u001b[0m\u001b[0mcuda\u001b[0m\u001b[0;34m,\u001b[0m \u001b[0mtype\u001b[0m\u001b[0;34m(\u001b[0m\u001b[0mobj\u001b[0m\u001b[0;34m)\u001b[0m\u001b[0;34m.\u001b[0m\u001b[0m__name__\u001b[0m\u001b[0;34m)\u001b[0m\u001b[0;34m\u001b[0m\u001b[0;34m\u001b[0m\u001b[0m\n",
      "\u001b[0;32m/usr/local/lib/python3.6/dist-packages/torch/serialization.py\u001b[0m in \u001b[0;36mvalidate_cuda_device\u001b[0;34m(location)\u001b[0m\n\u001b[1;32m     77\u001b[0m \u001b[0;34m\u001b[0m\u001b[0m\n\u001b[1;32m     78\u001b[0m     \u001b[0;32mif\u001b[0m \u001b[0;32mnot\u001b[0m \u001b[0mtorch\u001b[0m\u001b[0;34m.\u001b[0m\u001b[0mcuda\u001b[0m\u001b[0;34m.\u001b[0m\u001b[0mis_available\u001b[0m\u001b[0;34m(\u001b[0m\u001b[0;34m)\u001b[0m\u001b[0;34m:\u001b[0m\u001b[0;34m\u001b[0m\u001b[0;34m\u001b[0m\u001b[0m\n\u001b[0;32m---> 79\u001b[0;31m         raise RuntimeError('Attempting to deserialize object on a CUDA '\n\u001b[0m\u001b[1;32m     80\u001b[0m                            \u001b[0;34m'device but torch.cuda.is_available() is False. '\u001b[0m\u001b[0;34m\u001b[0m\u001b[0;34m\u001b[0m\u001b[0m\n\u001b[1;32m     81\u001b[0m                            \u001b[0;34m'If you are running on a CPU-only machine, '\u001b[0m\u001b[0;34m\u001b[0m\u001b[0;34m\u001b[0m\u001b[0m\n",
      "\u001b[0;31mRuntimeError\u001b[0m: Attempting to deserialize object on a CUDA device but torch.cuda.is_available() is False. If you are running on a CPU-only machine, please use torch.load with map_location='cpu' to map your storages to the CPU."
     ]
    },
    {
     "name": "stdout",
     "output_type": "stream",
     "text": [
      "2019-07-01 15:26:51,015 - trains.Task - WARNING - ### TASK STOPPED - USER ABORTED - STATUS CHANGED ###\n"
     ]
    }
   ],
   "source": [
    "%run -i runAllAtOncestylegan2.py starry-night.png robotsoul3.jpg"
   ]
  },
  {
   "cell_type": "code",
   "execution_count": null,
   "metadata": {
    "colab": {
     "base_uri": "https://localhost:8080/",
     "height": 557
    },
    "colab_type": "code",
    "executionInfo": {
     "elapsed": 506,
     "status": "error",
     "timestamp": 1562001578372,
     "user": {
      "displayName": "Jesse Woellhof",
      "photoUrl": "https://lh5.googleusercontent.com/-KfTzQgdCJLU/AAAAAAAAAAI/AAAAAAAAEnM/-0NVqTuM3hY/s64/photo.jpg",
      "userId": "00057452597273831456"
     },
     "user_tz": 240
    },
    "id": "qTP5Kwafgu8B",
    "outputId": "ba0ef4c2-319a-4076-994a-9169a44fe221"
   },
   "outputs": [],
   "source": [
    "out = style_transfer(\n",
    "    ResNetStyleTransferModel(robust_resnet, dataset.mean, dataset.std), \n",
    "    style_img, content_img, style_weight=1e9, content_weight=0.5,\n",
    "    start_from_content=True, n_iters=[0, 50, 100], opt='LBFGS')"
   ]
  },
  {
   "cell_type": "code",
   "execution_count": null,
   "metadata": {
    "colab": {},
    "colab_type": "code",
    "id": "BcQBZa-KirDv"
   },
   "outputs": [],
   "source": []
  },
  {
   "cell_type": "markdown",
   "metadata": {
    "colab_type": "text",
    "id": "JthtOjBstWEF"
   },
   "source": [
    "## Imports"
   ]
  },
  {
   "cell_type": "markdown",
   "metadata": {
    "colab_type": "text",
    "id": "II88yXMlKg7V"
   },
   "source": []
  },
  {
   "cell_type": "code",
   "execution_count": null,
   "metadata": {
    "colab": {},
    "colab_type": "code",
    "id": "j-yjzg1NCm1P"
   },
   "outputs": [],
   "source": [
    "\n",
    "import sys\n",
    "sys.path.append('/home/robustness_lib')\n",
    "import os\n",
    "import io\n",
    "import json\n",
    "import time\n",
    "import copy\n",
    "import glob\n",
    "\n",
    "from PIL import Image\n",
    "\n",
    "import matplotlib.pyplot as plt\n",
    "\n",
    "import torch as ch\n",
    "import torch.nn.functional as functional\n",
    "import torch.optim as optim\n",
    "import torch.utils.model_zoo as model_zoo\n",
    "import torch.nn as nn\n",
    "\n",
    "import torchvision.transforms.functional as F\n",
    "import torchvision.models as models\n",
    "from torchvision import transforms\n",
    "\n",
    "#from robustness import datasets, model_utils, constants, helpers\n"
   ]
  },
  {
   "cell_type": "code",
   "execution_count": null,
   "metadata": {
    "colab": {},
    "colab_type": "code",
    "id": "wGDQzs7X11_w"
   },
   "outputs": [],
   "source": [
    "from robustness import datasets, model_utils, constants, helpers"
   ]
  },
  {
   "cell_type": "markdown",
   "metadata": {
    "colab_type": "text",
    "id": "uFzdb3rhOJub"
   },
   "source": [
    "Next, we need to choose which device to run the network on and import the\n",
    "content and style images. Running the neural transfer algorithm on large\n",
    "images takes longer and will go much faster when running on a GPU. We can\n",
    "use ``torch.cuda.is_available()`` to detect if there is a GPU available.\n",
    "Next, we set the ``torch.device`` for use throughout the tutorial. Also the ``.to(device)``\n",
    "method is used to move tensors or modules to a desired device."
   ]
  },
  {
   "cell_type": "code",
   "execution_count": null,
   "metadata": {
    "colab": {},
    "colab_type": "code",
    "id": "8ZnCqzgQOPyE"
   },
   "outputs": [],
   "source": [
    "device = ch.device(\"cuda\" if ch.cuda.is_available() else \"cpu\")"
   ]
  },
  {
   "cell_type": "markdown",
   "metadata": {
    "colab_type": "text",
    "id": "OsfVu6y1OSkn"
   },
   "source": [
    " Loading the Images\n",
    " ------------------\n",
    "\n",
    " Now we will import the style and content images. The original PIL images have values between 0 and 255, but when\n",
    " transformed into torch tensors, their values are converted to be between\n",
    " 0 and 1. The images also need to be resized to have the same dimensions.\n",
    " An important detail to note is that neural networks from the\n",
    " torch library are trained with tensor values ranging from 0 to 1. If you\n",
    " try to feed the networks with 0 to 255 tensor images, then the activated\n",
    " feature maps will be unable sense the intended content and style.\n",
    " However, pre-trained networks from the Caffe library are trained with 0\n",
    " to 255 tensor images.\n",
    "\n",
    "\n",
    " .. Note::\n",
    "     Here are links to download the images required to run the tutorial:\n",
    "     `picasso.jpg <https://pytorch.org/tutorials/_static/img/neural-style/picasso.jpg>`__ and\n",
    "     `dancing.jpg <https://pytorch.org/tutorials/_static/img/neural-style/dancing.jpg>`__.\n",
    "     Download these two images and add them to a directory\n",
    "     with name ``images`` in your current working directory."
   ]
  },
  {
   "cell_type": "code",
   "execution_count": null,
   "metadata": {
    "colab": {},
    "colab_type": "code",
    "id": "OYh_B61dMe-i"
   },
   "outputs": [],
   "source": [
    "\n",
    "\n",
    "# desired size of the output image\n",
    "imsize = 512 if ch.cuda.is_available() else 128  # use small size if no gpu\n",
    "\n",
    "\n",
    "def image_loader(image_name):\n",
    "  loader = transforms.Compose([\n",
    "      transforms.Resize(imsize),  # scale imported image\n",
    "      transforms.ToTensor()])  # transform it into a torch tensor\n",
    "\n",
    "  image = Image.open(image_name)\n",
    "  # fake batch dimension required to fit network's input dimensions\n",
    "  image = loader(image).unsqueeze(0)[:, :3, :, :]\n",
    "  return image.to(device, ch.float)\n",
    "\n",
    "\n",
    "def imshow(tensor, title=None):\n",
    "  unloader = transforms.ToPILImage()  # reconvert into PIL image\n",
    "\n",
    "  image = tensor.cpu().clone()  # we clone the tensor to not do changes on it\n",
    "  image = image.squeeze(0)      # remove the fake batch dimension\n",
    "  image = unloader(image)\n",
    "  plt.imshow(image)\n",
    "  if title is not None:\n",
    "      plt.title(title)\n",
    "  plt.pause(0.001) # pause a bit so that plots are updated"
   ]
  },
  {
   "cell_type": "code",
   "execution_count": null,
   "metadata": {
    "colab": {
     "base_uri": "https://localhost:8080/",
     "height": 34
    },
    "colab_type": "code",
    "executionInfo": {
     "elapsed": 263,
     "status": "ok",
     "timestamp": 1561727379147,
     "user": {
      "displayName": "Jesse Woellhof",
      "photoUrl": "https://lh5.googleusercontent.com/-KfTzQgdCJLU/AAAAAAAAAAI/AAAAAAAAEnM/-0NVqTuM3hY/s64/photo.jpg",
      "userId": "00057452597273831456"
     },
     "user_tz": 240
    },
    "id": "0M9b_L1ZTxM-",
    "outputId": "4c8cb692-936b-4a0c-eb2a-a8ae7ec6ee32"
   },
   "outputs": [],
   "source": [
    "from google.colab import drive\n",
    "drive.mount('/content/drive')"
   ]
  },
  {
   "cell_type": "code",
   "execution_count": null,
   "metadata": {
    "colab": {
     "base_uri": "https://localhost:8080/",
     "height": 34
    },
    "colab_type": "code",
    "executionInfo": {
     "elapsed": 7160,
     "status": "ok",
     "timestamp": 1561724208096,
     "user": {
      "displayName": "Jesse Woellhof",
      "photoUrl": "https://lh5.googleusercontent.com/-KfTzQgdCJLU/AAAAAAAAAAI/AAAAAAAAEnM/-0NVqTuM3hY/s64/photo.jpg",
      "userId": "00057452597273831456"
     },
     "user_tz": 240
    },
    "id": "oqiKOchoUISF",
    "outputId": "2d86ea7a-5ce7-4084-99fc-eaa53aa83a4d"
   },
   "outputs": [],
   "source": [
    "#!ls /content/drive/My\\ Drive/pics\n",
    "!cp /content/drive/My\\ Drive/pics/RobustResNET/* ./"
   ]
  },
  {
   "cell_type": "code",
   "execution_count": null,
   "metadata": {
    "colab": {
     "base_uri": "https://localhost:8080/",
     "height": 272
    },
    "colab_type": "code",
    "executionInfo": {
     "elapsed": 1769,
     "status": "ok",
     "timestamp": 1561724217618,
     "user": {
      "displayName": "Jesse Woellhof",
      "photoUrl": "https://lh5.googleusercontent.com/-KfTzQgdCJLU/AAAAAAAAAAI/AAAAAAAAEnM/-0NVqTuM3hY/s64/photo.jpg",
      "userId": "00057452597273831456"
     },
     "user_tz": 240
    },
    "id": "HzUqLBacUVn9",
    "outputId": "58d97001-e8ab-48ce-b8d5-ae6b72e069d4"
   },
   "outputs": [],
   "source": [
    "!ls\n",
    "!pwd"
   ]
  },
  {
   "cell_type": "markdown",
   "metadata": {
    "colab_type": "text",
    "id": "cXhEbzx_zLk5"
   },
   "source": [
    "## Prepare the trained models"
   ]
  },
  {
   "cell_type": "code",
   "execution_count": null,
   "metadata": {
    "colab": {
     "base_uri": "https://localhost:8080/",
     "height": 119
    },
    "colab_type": "code",
    "executionInfo": {
     "elapsed": 16951,
     "status": "ok",
     "timestamp": 1561725559995,
     "user": {
      "displayName": "Jesse Woellhof",
      "photoUrl": "https://lh5.googleusercontent.com/-KfTzQgdCJLU/AAAAAAAAAAI/AAAAAAAAEnM/-0NVqTuM3hY/s64/photo.jpg",
      "userId": "00057452597273831456"
     },
     "user_tz": 240
    },
    "id": "lDXuf1U5C4vE",
    "outputId": "1cf3edac-f49a-4b97-c5d5-68b9aec0652f"
   },
   "outputs": [],
   "source": [
    "dataset = datasets.RestrictedImageNet('')\n",
    "\n",
    "model_kwargs = {\n",
    "    'arch': 'resnet50',\n",
    "    'dataset': dataset,\n",
    "    'resume_path': '/home/RestrictedImageNet.pt',\n",
    "    'state_dict_path': 'model',\n",
    "    'parallel': False\n",
    "}\n",
    "\n",
    "# Robust ResNet\n",
    "model, ckpt = model_utils.make_and_restore_model(**model_kwargs)\n",
    "robust_resnet = model.model\n",
    "\n",
    "# Regular ResNet\n",
    "reg_resnet = copy.deepcopy(robust_resnet)\n",
    "new_params = reg_resnet.state_dict()\n",
    "partial_params = model_zoo.load_url('https://download.pytorch.org/models/resnet50-19c8e357.pth')\n",
    "del partial_params['fc.bias']\n",
    "del partial_params['fc.weight']\n",
    "new_params.update(partial_params)\n",
    "reg_resnet.load_state_dict(new_params)\n",
    "\n",
    "# VGG\n",
    "vgg = models.vgg19(pretrained=True).features"
   ]
  },
  {
   "cell_type": "markdown",
   "metadata": {
    "colab_type": "text",
    "id": "zXR_GPKAzTWJ"
   },
   "source": [
    "## Style transfer code"
   ]
  },
  {
   "cell_type": "code",
   "execution_count": null,
   "metadata": {
    "colab": {},
    "colab_type": "code",
    "id": "bZQUlIvVGw7L"
   },
   "outputs": [],
   "source": [
    "class ContentLoss(nn.Module):\n",
    "\n",
    "    def __init__(self, feature_maps,):\n",
    "        super(ContentLoss, self).__init__()\n",
    "        # we 'detach' the target content from the tree used\n",
    "        # to dynamically compute the gradient: this is a stated value,\n",
    "        # not a variable. Otherwise the forward method of the criterion\n",
    "        # will throw an error.\n",
    "        self.feature_maps = {key: val.detach() for key, val in feature_maps.items()}\n",
    "\n",
    "    def forward(self, input, layer_name):\n",
    "        return functional.mse_loss(input[layer_name], self.feature_maps[layer_name])\n",
    "\n",
    "def gram_matrix(input):\n",
    "    a, b, c, d = input.size()  # a=batch size(=1)\n",
    "    # b=number of feature maps\n",
    "    # (c,d)=dimensions of a f. map (N=c*d)\n",
    "\n",
    "    features = input.view(a * b, c * d)  # resise F_XL into \\hat F_XL\n",
    "\n",
    "    G = ch.mm(features, features.t())  # compute the gram product\n",
    "\n",
    "    # we 'normalize' the values of the gram matrix\n",
    "    # by dividing by the number of element in each feature maps.\n",
    "    return G.div(a * b * c * d)\n",
    "  \n",
    "class StyleLoss(nn.Module):\n",
    "\n",
    "    def __init__(self, feature_maps):\n",
    "        super(StyleLoss, self).__init__()\n",
    "        self.feature_maps = {key: gram_matrix(val).detach() for key, val in feature_maps.items()}\n",
    "\n",
    "    def forward(self, input, layer_name):\n",
    "        G = gram_matrix(input[layer_name])\n",
    "        return functional.mse_loss(G, self.feature_maps[layer_name])\n",
    "\n"
   ]
  },
  {
   "cell_type": "code",
   "execution_count": null,
   "metadata": {
    "colab": {},
    "colab_type": "code",
    "id": "DSjdvYSWzlCQ"
   },
   "outputs": [],
   "source": [
    "class ResNetStyleTransferModel(nn.Module):\n",
    "  \"\"\"This class is used to wrap a ResNet model for style transfer\"\"\"\n",
    "  def __init__(self, model, mean, std):\n",
    "    super(ResNetStyleTransferModel, self).__init__()\n",
    "    self.normalize = helpers.InputNormalize(mean, std)\n",
    "    self.model = model  # Resnet50 model\n",
    "   \n",
    "  def forward(self, x):\n",
    "    layers = {}\n",
    "    \n",
    "    x = self.normalize(x)\n",
    "    \n",
    "    x = self.model.conv1(x)\n",
    "    x = self.model.bn1(x)\n",
    "    x = self.model.relu(x)\n",
    "    x = self.model.maxpool(x)\n",
    "    \n",
    "    x = self.model.layer1(x)\n",
    "    layers['conv_1'] = x\n",
    "    x = self.model.layer2(x)\n",
    "    layers['conv_2'] = x\n",
    "    x = self.model.layer3(x)\n",
    "    layers['conv_3'] = x\n",
    "    x = self.model.layer4(x, fake_relu=True)\n",
    "    layers['conv_4'] = x\n",
    "    \n",
    "    return layers"
   ]
  },
  {
   "cell_type": "code",
   "execution_count": null,
   "metadata": {
    "colab": {},
    "colab_type": "code",
    "id": "NnQX4hkxznch"
   },
   "outputs": [],
   "source": [
    "class VGGStyleTransferModel(nn.Module):\n",
    "  \"\"\"This class is used to wrap a VGG model for style transfer\"\"\"\n",
    "  def __init__(self, model, mean, std):\n",
    "    super(VGGStyleTransferModel, self).__init__()\n",
    "    self.normalize = helpers.InputNormalize(mean, std)\n",
    "    self.model = model  # VGG model\n",
    "\n",
    "  def forward(self, x):\n",
    "    layers = {}\n",
    "    \n",
    "    x = self.normalize(x)\n",
    "    \n",
    "    i=0\n",
    "    for layer in self.model.children():\n",
    "      if isinstance(layer, nn.Conv2d):\n",
    "          i += 1\n",
    "          name = 'conv_{}'.format(i)\n",
    "      elif isinstance(layer, nn.ReLU):\n",
    "          name = 'relu_{}'.format(i)\n",
    "          # The in-place version doesn't play very nicely with the ContentLoss\n",
    "          # and StyleLoss we insert below. So we replace with out-of-place\n",
    "          # ones here.\n",
    "          layer = nn.ReLU(inplace=False)\n",
    "      elif isinstance(layer, nn.MaxPool2d):\n",
    "          name = 'pool_{}'.format(i)\n",
    "          layer = nn.AvgPool2d(kernel_size=2, stride=2)\n",
    "      elif isinstance(layer, nn.BatchNorm2d):\n",
    "          name = 'bn_{}'.format(i)\n",
    "      else:\n",
    "          raise RuntimeError('Unrecognized layer: {}'.format(layer.__class__.__name__))\n",
    "      x = layer(x)\n",
    "      \n",
    "      if isinstance(layer, nn.Conv2d):\n",
    "        layers[name] = x\n",
    "      if i == 13:  # This is the last layer we usually use for style transfer\n",
    "        break\n",
    "    return layers"
   ]
  },
  {
   "cell_type": "code",
   "execution_count": null,
   "metadata": {
    "colab": {},
    "colab_type": "code",
    "id": "1-yP-PnrOf_9"
   },
   "outputs": [],
   "source": [
    "def get_input_optimizer(input_img, opt='Adam'):\n",
    "    # this line to show that input is a parameter that requires a gradient\n",
    "    if opt == 'Adam':\n",
    "      optimizer = optim.Adam([input_img.requires_grad_()], lr=0.01)\n",
    "    elif opt == 'LBFGS':\n",
    "      optimizer = optim.LBFGS([input_img.requires_grad_()])\n",
    "    else:\n",
    "      raise RuntimeError('Unrecognized optimizer: {}'.format(opt))\n",
    "    return optimizer"
   ]
  },
  {
   "cell_type": "markdown",
   "metadata": {
    "colab_type": "text",
    "id": "wB42RNlEY1L8"
   },
   "source": [
    "Below,  if run[0] in n_iters:\n",
    "changed to \n",
    "if true:"
   ]
  },
  {
   "cell_type": "code",
   "execution_count": null,
   "metadata": {
    "colab": {},
    "colab_type": "code",
    "id": "g6b152h9K8Vi"
   },
   "outputs": [],
   "source": [
    "def style_transfer(st_model, content_img, style_img, start_from_content=True,\n",
    "                   n_iters=[0, 2000], style_weight=1e9, content_weight=1,\n",
    "                   content_layers=['conv_3'], style_layers=['conv_1', 'conv_2', 'conv_3', 'conv_4'],\n",
    "                   opt='Adam',\n",
    "                   verbose=True,\n",
    "                   ):\n",
    "  st_model.eval().cuda()\n",
    "  \n",
    "  if isinstance(content_img, str):\n",
    "    content_img = image_loader(content_img)\n",
    "  \n",
    "  if isinstance(style_img, str):\n",
    "    style_img = image_loader(style_img)\n",
    "  \n",
    "  content_feature_maps = st_model(content_img)\n",
    "  content_feature_maps = {key: val.detach() for key, val in content_feature_maps.items()}\n",
    "  \n",
    "  style_feature_maps = st_model(style_img)\n",
    "  style_feature_maps = {key: val.detach() for key, val in style_feature_maps.items()}\n",
    "  \n",
    "  content_loss_func = ContentLoss(content_feature_maps)\n",
    "  style_loss_func = StyleLoss(style_feature_maps)\n",
    "  \n",
    "  if start_from_content:\n",
    "    input_img = content_img.clone()\n",
    "  else:\n",
    "    input_img = ch.randn(content_img.data.size(), device=device)\n",
    "    \n",
    "  optimizer = get_input_optimizer(input_img, opt=opt)\n",
    "  \n",
    "  images = []\n",
    "  run = [0]\n",
    "  start_time = time.time()\n",
    "  while run[0] <= n_iters[-1]:\n",
    "    def closure():\n",
    "      # correct the values of updated input image\n",
    "      input_img.data.clamp_(0, 1)\n",
    "\n",
    "      optimizer.zero_grad()\n",
    "      input_feature_maps = st_model(input_img)\n",
    "      \n",
    "      style_score = 0\n",
    "      content_score = 0\n",
    "      edition = 1\n",
    "\n",
    "      for sl in style_layers:\n",
    "          _l = style_loss_func(input_feature_maps, sl) * style_weight\n",
    "          style_score += _l\n",
    "          #print(_l)\n",
    "      for cl in content_layers:\n",
    "          content_score += content_loss_func(input_feature_maps, cl) * content_weight\n",
    "          #print(content_score)\n",
    "\n",
    "      #style_score *= style_weight\n",
    "      #content_score *= content_weight\n",
    "\n",
    "      loss = style_score + content_score\n",
    "      loss.backward()\n",
    "      \n",
    "      if True:\n",
    "          print(\"run {}:\".format(run))\n",
    "          print('Style Loss : {:4f} Content Loss: {:4f} time elapsed: {} seconds'.format(\n",
    "              style_score.item(), content_score.item(), time.time() - start_time))\n",
    "          if verbose:\n",
    "            plt.figure(figsize=(8, 8))\n",
    "            imshow(input_img, title='run {}:'.format(run))\n",
    "            \n",
    "          unloader = transforms.ToPILImage()  # reconvert into PIL image\n",
    "          image = input_img.clone().cpu()  # we clone the tensor to not do changes on it\n",
    "          image = image.squeeze(0)      # remove the fake batch dimension\n",
    "          image = unloader(image)\n",
    "          imagename = \"/content/testrun/\" + str(edition)\n",
    "#          imagefile = open(\"%s\" % imagename, \"wb\")\n",
    "          image.save(\"{0}\".format(imagename), 'jpeg')\n",
    "          images.append(image)\n",
    "      edition += 1\n",
    "      run[0] += 1\n",
    "\n",
    "      return style_score + content_score\n",
    "\n",
    "    optimizer.step(closure)\n",
    "\n",
    "  # a last correction...\n",
    "  input_img.data.clamp_(0, 1)\n",
    "\n",
    "  return input_img, images"
   ]
  },
  {
   "cell_type": "code",
   "execution_count": null,
   "metadata": {
    "colab": {},
    "colab_type": "code",
    "id": "qRIKMzWZYKbm"
   },
   "outputs": [],
   "source": [
    "!cp /content/drive/My\\ Drive/pics/RobustResNET/valinmattheis/* ./"
   ]
  },
  {
   "cell_type": "code",
   "execution_count": null,
   "metadata": {
    "colab": {},
    "colab_type": "code",
    "id": "KLNTGWtFYdir"
   },
   "outputs": [],
   "source": [
    "!mkdir testrun"
   ]
  },
  {
   "cell_type": "markdown",
   "metadata": {
    "colab_type": "text",
    "id": "kAYR4mDd4VP7"
   },
   "source": [
    "## Non-robust ResNet"
   ]
  },
  {
   "cell_type": "code",
   "execution_count": null,
   "metadata": {
    "colab": {},
    "colab_type": "code",
    "id": "38UR4HqUGdJy"
   },
   "outputs": [],
   "source": [
    "_ = style_transfer(\n",
    "    ResNetStyleTransferModel(reg_resnet, dataset.mean, dataset.std), \n",
    "    'notebook-styletransfer-bigben.jpg', 'the_scream.jpg', style_weight=1e17, content_weight=1,\n",
    "    start_from_content=True, n_iters=range(0, 500, 100), opt='LBFGS')\n"
   ]
  },
  {
   "cell_type": "markdown",
   "metadata": {
    "colab_type": "text",
    "id": "stKd1Xqu4ohx"
   },
   "source": [
    "## Robust ResNet"
   ]
  },
  {
   "cell_type": "code",
   "execution_count": null,
   "metadata": {
    "colab": {
     "base_uri": "https://localhost:8080/",
     "height": 255
    },
    "colab_type": "code",
    "executionInfo": {
     "elapsed": 3590,
     "status": "ok",
     "timestamp": 1561572303421,
     "user": {
      "displayName": "Jesse Woellhof",
      "photoUrl": "https://lh5.googleusercontent.com/-KfTzQgdCJLU/AAAAAAAAAAI/AAAAAAAAEnM/-0NVqTuM3hY/s64/photo.jpg",
      "userId": "00057452597273831456"
     },
     "user_tz": 240
    },
    "id": "GUIBUhpa9kQe",
    "outputId": "7f6555b1-75f0-4bf3-f5e0-4b224d5f3f23"
   },
   "outputs": [],
   "source": [
    "!ls"
   ]
  },
  {
   "cell_type": "code",
   "execution_count": null,
   "metadata": {
    "colab": {
     "base_uri": "https://localhost:8080/",
     "height": 1000,
     "output_embedded_package_id": "1EheFvf0EltRcigIKj7tcJj2RuQoxlaSa"
    },
    "colab_type": "code",
    "executionInfo": {
     "elapsed": 70779,
     "status": "ok",
     "timestamp": 1561730303966,
     "user": {
      "displayName": "Jesse Woellhof",
      "photoUrl": "https://lh5.googleusercontent.com/-KfTzQgdCJLU/AAAAAAAAAAI/AAAAAAAAEnM/-0NVqTuM3hY/s64/photo.jpg",
      "userId": "00057452597273831456"
     },
     "user_tz": 240
    },
    "id": "1cpXy9xsSmlP",
    "outputId": "c448dfad-5392-4218-e904-9e44b6543a6d"
   },
   "outputs": [],
   "source": [
    "out = style_transfer(\n",
    "    ResNetStyleTransferModel(robust_resnet, dataset.mean, dataset.std), \n",
    "    'wildhuntmeta1.jpg', 'wildhuntmattheis.jpg', style_weight=1e9, content_weight=0.5,\n",
    "    start_from_content=True, n_iters=[0, 50, 100], opt='LBFGS')"
   ]
  },
  {
   "cell_type": "code",
   "execution_count": null,
   "metadata": {
    "colab": {
     "base_uri": "https://localhost:8080/",
     "height": 1000,
     "output_embedded_package_id": "1uKJ_U4TJeMtFlOhtZt6H5Elv1z7ygtcs"
    },
    "colab_type": "code",
    "executionInfo": {
     "elapsed": 68205,
     "status": "ok",
     "timestamp": 1561727512582,
     "user": {
      "displayName": "Jesse Woellhof",
      "photoUrl": "https://lh5.googleusercontent.com/-KfTzQgdCJLU/AAAAAAAAAAI/AAAAAAAAEnM/-0NVqTuM3hY/s64/photo.jpg",
      "userId": "00057452597273831456"
     },
     "user_tz": 240
    },
    "id": "OOt2zm12-f-Q",
    "outputId": "5983ca57-a43b-40e1-904d-63c84a8dc440"
   },
   "outputs": [],
   "source": [
    "out = style_transfer(\n",
    "    ResNetStyleTransferModel(robust_resnet, dataset.mean, dataset.std), \n",
    "    'treantgod.jpg', 'nebulaman.jpg', style_weight=1e9, content_weight=1,\n",
    "    start_from_content=True, n_iters=[0, 50, 100], opt='LBFGS')"
   ]
  },
  {
   "cell_type": "code",
   "execution_count": null,
   "metadata": {
    "colab": {
     "base_uri": "https://localhost:8080/",
     "height": 1000,
     "output_embedded_package_id": "1lQi0tJnW7UL229hhqtRm2fm0oFJVmVN5"
    },
    "colab_type": "code",
    "executionInfo": {
     "elapsed": 205265,
     "status": "ok",
     "timestamp": 1561563769350,
     "user": {
      "displayName": "Jesse Woellhof",
      "photoUrl": "https://lh5.googleusercontent.com/-KfTzQgdCJLU/AAAAAAAAAAI/AAAAAAAAEnM/-0NVqTuM3hY/s64/photo.jpg",
      "userId": "00057452597273831456"
     },
     "user_tz": 240
    },
    "id": "UZJ70lOZcL6o",
    "outputId": "87fa2ff7-f642-41b4-a6c8-3d70741d4e49"
   },
   "outputs": [],
   "source": [
    "out = style_transfer(\n",
    "    ResNetStyleTransferModel(robust_resnet, dataset.mean, dataset.std), \n",
    "     'deathrockcomic.jpg', 'wildhuntmattheis.jpg', style_weight=1e9, content_weight=1.5,\n",
    "    start_from_content=True, n_iters=[0, 50, 100], opt='LBFGS')"
   ]
  },
  {
   "cell_type": "code",
   "execution_count": null,
   "metadata": {
    "colab": {
     "base_uri": "https://localhost:8080/",
     "height": 1000,
     "output_embedded_package_id": "1fE1aXV_ArNbvoXZ3PVdwJxFleCv5-6mY"
    },
    "colab_type": "code",
    "executionInfo": {
     "elapsed": 140517,
     "status": "error",
     "timestamp": 1561563468337,
     "user": {
      "displayName": "Jesse Woellhof",
      "photoUrl": "https://lh5.googleusercontent.com/-KfTzQgdCJLU/AAAAAAAAAAI/AAAAAAAAEnM/-0NVqTuM3hY/s64/photo.jpg",
      "userId": "00057452597273831456"
     },
     "user_tz": 240
    },
    "id": "m2U5fY88U5aR",
    "outputId": "e6a8fc82-7303-4e0f-aa45-9d7fd50c6186"
   },
   "outputs": [],
   "source": [
    "out = style_transfer(\n",
    "    ResNetStyleTransferModel(robust_resnet, dataset.mean, dataset.std), \n",
    "    'wildhuntmattheis.jpg', 'deathrockcomic.jpg', style_weight=1e9, content_weight=1.5,\n",
    "    start_from_content=True, n_iters=[0, 50, 100], opt='LBFGS')"
   ]
  },
  {
   "cell_type": "code",
   "execution_count": null,
   "metadata": {
    "colab": {},
    "colab_type": "code",
    "id": "B8Z2DSUEadcn"
   },
   "outputs": [],
   "source": [
    "out = style_transfer(\n",
    "    ResNetStyleTransferModel(robust_resnet, dataset.mean, dataset.std), \n",
    "    'nebulaman.jpg', 'woman-with-hat-matisse.jpg', style_weight=1e9, content_weight=1,\n",
    "    start_from_content=True, n_iters=[0, 50, 100], opt='LBFGS')"
   ]
  },
  {
   "cell_type": "code",
   "execution_count": null,
   "metadata": {
    "colab": {},
    "colab_type": "code",
    "id": "eFJajjcQFVaK"
   },
   "outputs": [],
   "source": [
    "out = style_transfer(\n",
    "    ResNetStyleTransferModel(robust_resnet, dataset.mean, dataset.std), \n",
    "    'notebook-styletransfer-bigben.jpg', 'the_scream.jpg', style_weight=1e9, content_weight=1,\n",
    "    start_from_content=True, n_iters=[0, 50, 100], opt='LBFGS')\n"
   ]
  },
  {
   "cell_type": "markdown",
   "metadata": {
    "colab_type": "text",
    "id": "PLjGOyZt4tdm"
   },
   "source": [
    "## VGG"
   ]
  },
  {
   "cell_type": "code",
   "execution_count": null,
   "metadata": {
    "colab": {},
    "colab_type": "code",
    "id": "PaS7uFln8RMc"
   },
   "outputs": [],
   "source": [
    "out = style_transfer(\n",
    "    VGGStyleTransferModel(vgg, dataset.mean, dataset.std), \n",
    "    'notebook-styletransfer-bigben.jpg', 'the_scream.jpg', style_weight=4e6, content_weight=1,\n",
    "    start_from_content=True, n_iters=[0, 50, 100], content_layers=['conv_10'],\n",
    "    style_layers = ['conv_1', 'conv_3', 'conv_5', 'conv_9', 'conv_13'], opt='LBFGS')\n"
   ]
  },
  {
   "cell_type": "markdown",
   "metadata": {
    "colab_type": "text",
    "id": "T4HTw8ixjj5H"
   },
   "source": [
    "## Grid search over a bunch of images and hyperparameters"
   ]
  },
  {
   "cell_type": "code",
   "execution_count": null,
   "metadata": {
    "colab": {},
    "colab_type": "code",
    "id": "Rws0bAmilTaM"
   },
   "outputs": [],
   "source": [
    "\n",
    "def create_dir(directory):\n",
    "  if not os.path.exists(directory):\n",
    "    os.makedirs(directory)"
   ]
  },
  {
   "cell_type": "code",
   "execution_count": null,
   "metadata": {
    "colab": {},
    "colab_type": "code",
    "id": "aOZ3GylHkWHN"
   },
   "outputs": [],
   "source": [
    "#!rm -r outputs_images\n"
   ]
  },
  {
   "cell_type": "code",
   "execution_count": null,
   "metadata": {
    "colab": {
     "base_uri": "https://localhost:8080/",
     "height": 1000
    },
    "colab_type": "code",
    "executionInfo": {
     "elapsed": 79590,
     "status": "error",
     "timestamp": 1561731411795,
     "user": {
      "displayName": "Jesse Woellhof",
      "photoUrl": "https://lh5.googleusercontent.com/-KfTzQgdCJLU/AAAAAAAAAAI/AAAAAAAAEnM/-0NVqTuM3hY/s64/photo.jpg",
      "userId": "00057452597273831456"
     },
     "user_tz": 240
    },
    "id": "hgdn7fJKZZRT",
    "outputId": "d6388825-8ae2-400e-ba2b-4c28482e19e2"
   },
   "outputs": [],
   "source": [
    "def search_robust():\n",
    "  base_output_directory = 'outputs_images/'\n",
    "  style_layers = ['conv_1', 'conv_2', 'conv_3', 'conv_4']\n",
    "  content_layers = ['conv_3']\n",
    "  iters = [0, 50, 100, 200, 300, 400, 500]\n",
    "  style_weights = [1e11, 1e10, 1e9, 1e8]\n",
    "  content_weights = [1]\n",
    "  start_from_contents = [True, False]\n",
    "  style_images = ['the_scream.jpg', 'starry-night.png', 'picasso.jpg', \n",
    "                  'escher_sphere.jpg', 'woman-with-hat-matisse.jpg']\n",
    "  content_images = ['notebook-styletransfer-bigben.jpg', 'dancing.jpg', 'tubingen.jpg', 'working-in-tuebingen.jpg']\n",
    "\n",
    "  for style_img in style_images:\n",
    "    for content_img in content_images:\n",
    "      for sw in style_weights:\n",
    "        for cw in content_weights:\n",
    "          for sfc in start_from_contents:\n",
    "            for r in ['r']:\n",
    "              out_dir = os.path.join(\n",
    "                  base_output_directory, \n",
    "                  'si_{}__ci_{}'.format(style_img, content_img),\n",
    "                  )\n",
    "              create_dir(out_dir)\n",
    "              fn = 'sfc{}_sw{}_cw{}_{}'.format(sfc, sw, cw, r)\n",
    "              existing = glob.glob(os.path.join(out_dir, fn+'_*'))\n",
    "              if existing:\n",
    "                print('found {}, skipping', existing[0])\n",
    "                continue\n",
    "              print('starting', out_dir, fn)\n",
    "              _, outs = style_transfer(\n",
    "                ResNetStyleTransferModel(robust_resnet if r == 'r' else reg_resnet, dataset.mean, dataset.std), \n",
    "                content_img, style_img, start_from_content=sfc, n_iters=iters, style_weight=sw, content_weight=cw,\n",
    "                content_layers=content_layers, style_layers=style_layers, opt='LBFGS', verbose=False)\n",
    "              for im, i in zip(outs, iters):\n",
    "                im.save(os.path.join(out_dir, fn+'_{}.jpg').format(i), 'JPEG')\n",
    "search_robust()"
   ]
  },
  {
   "cell_type": "code",
   "execution_count": null,
   "metadata": {
    "colab": {},
    "colab_type": "code",
    "id": "AaZxRtu9i0LV"
   },
   "outputs": [],
   "source": [
    "!zip -rq outputs_images.zip outputs_images"
   ]
  },
  {
   "cell_type": "code",
   "execution_count": null,
   "metadata": {
    "colab": {},
    "colab_type": "code",
    "id": "Jz4Z48EWRc4g"
   },
   "outputs": [],
   "source": [
    "\n",
    "def search_nonrobust():\n",
    "  base_output_directory = 'outputs_images_nonrobust/'\n",
    "  style_layers = ['conv_1', 'conv_2', 'conv_3', 'conv_4']\n",
    "  content_layers = ['conv_3']\n",
    "  iters = [0, 50, 100, 200, 500]\n",
    "  style_weights = [1e14]\n",
    "  content_weights = [1]\n",
    "  start_from_contents = [True, False]\n",
    "  style_images = ['the_scream.jpg', 'starry-night.png', 'picasso.jpg', \n",
    "                  'escher_sphere.jpg', 'woman-with-hat-matisse.jpg']\n",
    "  content_images = ['notebook-styletransfer-bigben.jpg', 'dancing.jpg', 'tubingen.jpg', 'working-in-tuebingen.jpg']\n",
    "\n",
    "  for style_img in style_images:\n",
    "    for content_img in content_images:\n",
    "      for sw in style_weights:\n",
    "        for cw in content_weights:\n",
    "          for sfc in start_from_contents:\n",
    "            for r in ['nr']:\n",
    "              out_dir = os.path.join(\n",
    "                  base_output_directory, \n",
    "                  'si_{}__ci_{}'.format(style_img, content_img),\n",
    "                  )\n",
    "              create_dir(out_dir)\n",
    "              fn = 'sfc{}_sw{}_cw{}_{}'.format(sfc, sw, cw, r)\n",
    "              existing = glob.glob(os.path.join(out_dir, fn+'_*'))\n",
    "              if existing:\n",
    "                print('found {}, skipping', existing[0])\n",
    "                continue\n",
    "              print('starting', out_dir, fn)\n",
    "              _, outs = style_transfer(\n",
    "                ResNetStyleTransferModel(robust_resnet if r == 'r' else reg_resnet, dataset.mean, dataset.std), \n",
    "                content_img, style_img, start_from_content=sfc, n_iters=iters, style_weight=sw, content_weight=cw,\n",
    "                content_layers=content_layers, style_layers=style_layers, opt='LBFGS', verbose=False)\n",
    "              for im, i in zip(outs, iters):\n",
    "                im.save(os.path.join(out_dir, fn+'_{}.jpg').format(i), 'JPEG')\n",
    "search_nonrobust()"
   ]
  },
  {
   "cell_type": "code",
   "execution_count": null,
   "metadata": {
    "colab": {},
    "colab_type": "code",
    "id": "Z-VNb5o41vKG"
   },
   "outputs": [],
   "source": [
    "!zip -rq outputs_images_nonrobust.zip outputs_images_nonrobust\n"
   ]
  },
  {
   "cell_type": "code",
   "execution_count": null,
   "metadata": {
    "colab": {},
    "colab_type": "code",
    "id": "Hluk2Cab8Now"
   },
   "outputs": [],
   "source": [
    "\n",
    "def search_vgg():\n",
    "  base_output_directory = 'outputs_images_vgg/'\n",
    "  style_layers = ['conv_1', 'conv_3', 'conv_5', 'conv_9', 'conv_13']\n",
    "  content_layers = ['conv_10']\n",
    "  iters = [0, 50, 100, 200, 300, 400, 500]\n",
    "  style_weights = [1e10, 1e9, 1e8, 1e7, 1e6, 1e5, 1e4]\n",
    "  content_weights = [1]\n",
    "  start_from_contents = [True, False]\n",
    "  style_images = ['the_scream.jpg', 'starry-night.png', 'picasso.jpg', \n",
    "                  'escher_sphere.jpg', 'woman-with-hat-matisse.jpg']\n",
    "  content_images = ['notebook-styletransfer-bigben.jpg', 'dancing.jpg', 'tubingen.jpg']\n",
    "\n",
    "  for style_img in style_images:\n",
    "    for content_img in content_images:\n",
    "      for sw in style_weights:\n",
    "        for cw in content_weights:\n",
    "          for sfc in start_from_contents:\n",
    "              out_dir = os.path.join(\n",
    "                  base_output_directory, \n",
    "                  'si_{}__ci_{}'.format(style_img, content_img),\n",
    "                  )\n",
    "              create_dir(out_dir)\n",
    "              fn = 'sfc{}_sw{}_cw{}'.format(sfc, sw, cw)\n",
    "              existing = glob.glob(os.path.join(out_dir, fn+'_*'))\n",
    "              if existing:\n",
    "                print('found {}, skipping', existing[0])\n",
    "                continue\n",
    "              print('starting', out_dir, fn)\n",
    "              _, outs = style_transfer(\n",
    "                VGGStyleTransferModel(vgg, dataset.mean, dataset.std), \n",
    "                content_img, style_img, start_from_content=sfc, n_iters=iters, style_weight=sw, content_weight=cw,\n",
    "                content_layers=content_layers, style_layers=style_layers, opt='LBFGS', verbose=False)\n",
    "              for im, i in zip(outs, iters):\n",
    "                im.save(os.path.join(out_dir, fn+'_{}.jpg').format(i), 'JPEG')\n",
    "search_vgg()"
   ]
  },
  {
   "cell_type": "code",
   "execution_count": null,
   "metadata": {
    "colab": {},
    "colab_type": "code",
    "id": "dKslOdC2-CeZ"
   },
   "outputs": [],
   "source": [
    "!zip -rq outputs_images_vgg.zip outputs_images_vgg\n"
   ]
  },
  {
   "cell_type": "code",
   "execution_count": null,
   "metadata": {
    "colab": {
     "base_uri": "https://localhost:8080/",
     "height": 1000
    },
    "colab_type": "code",
    "executionInfo": {
     "elapsed": 101031,
     "status": "error",
     "timestamp": 1561731299708,
     "user": {
      "displayName": "Jesse Woellhof",
      "photoUrl": "https://lh5.googleusercontent.com/-KfTzQgdCJLU/AAAAAAAAAAI/AAAAAAAAEnM/-0NVqTuM3hY/s64/photo.jpg",
      "userId": "00057452597273831456"
     },
     "user_tz": 240
    },
    "id": "80gPuV5bEfyu",
    "outputId": "22e7b185-7f24-4404-dcc4-8a211423ad68"
   },
   "outputs": [],
   "source": [
    "def search_textures():\n",
    "  base_output_directory = 'outputs_textures/'\n",
    "  \n",
    "  vgg_style_layers = ['conv_1', 'conv_3', 'conv_5', 'conv_9', 'conv_13']\n",
    "  vgg_content_layers = ['conv_10']\n",
    "\n",
    "  resnet_style_layers = ['conv_1', 'conv_2', 'conv_3', 'conv_4']\n",
    "  resnet_content_layers = ['conv_3']\n",
    "  \n",
    "  style_weight = 1e9\n",
    "  \n",
    "  iters = [0, 50, 100, 200, 300, 400, 500]\n",
    "  style_images = ['the_scream.jpg', 'starry-night.png', 'picasso.jpg', \n",
    "                  'escher_sphere.jpg', 'woman-with-hat-matisse.jpg']\n",
    "\n",
    "  for style_img in style_images:\n",
    "    for clf in ['r', 'nr', 'vgg']:\n",
    "      out_dir = base_output_directory\n",
    "      create_dir(out_dir)\n",
    "      fn = '{}_{}_texture'.format(clf, style_img)\n",
    "      existing = glob.glob(os.path.join(out_dir, fn+'_*'))\n",
    "      if existing:\n",
    "        print('found {}, skipping', existing[0])\n",
    "        continue\n",
    "      print('starting', out_dir, fn)\n",
    "      if clf == 'vgg':\n",
    "        model = VGGStyleTransferModel(vgg, dataset.mean, dataset.std)\n",
    "      else:\n",
    "        model = ResNetStyleTransferModel(robust_resnet if clf == 'r' else reg_resnet, dataset.mean, dataset.std)\n",
    "      _, outs = style_transfer(\n",
    "        model, \n",
    "        'dancing.jpg', style_img, start_from_content=False, n_iters=iters, style_weight=style_weight, \n",
    "        content_weight=0,\n",
    "        content_layers=vgg_content_layers if clf == 'vgg' else resnet_content_layers, \n",
    "        style_layers=vgg_style_layers if clf == 'vgg' else resnet_style_layers,\n",
    "        opt='LBFGS', verbose=False)\n",
    "      for im, i in zip(outs, iters):\n",
    "        im.save(os.path.join(out_dir, fn+'_{}.jpg').format(i), 'JPEG')\n",
    "search_textures()"
   ]
  },
  {
   "cell_type": "code",
   "execution_count": null,
   "metadata": {
    "colab": {},
    "colab_type": "code",
    "id": "Dw9-QGLU0lGL"
   },
   "outputs": [],
   "source": [
    "!zip -rq outputs_textures.zip outputs_textures"
   ]
  },
  {
   "cell_type": "code",
   "execution_count": null,
   "metadata": {
    "colab": {},
    "colab_type": "code",
    "id": "DFRwg0tY0lFB"
   },
   "outputs": [],
   "source": []
  },
  {
   "cell_type": "code",
   "execution_count": null,
   "metadata": {
    "colab": {},
    "colab_type": "code",
    "id": "8_Hh5v370lDV"
   },
   "outputs": [],
   "source": []
  },
  {
   "cell_type": "code",
   "execution_count": null,
   "metadata": {
    "colab": {},
    "colab_type": "code",
    "id": "XgVOyalD0k_D"
   },
   "outputs": [],
   "source": []
  },
  {
   "cell_type": "code",
   "execution_count": null,
   "metadata": {
    "colab": {},
    "colab_type": "code",
    "id": "y8nP4DHw0k65"
   },
   "outputs": [],
   "source": []
  },
  {
   "cell_type": "code",
   "execution_count": null,
   "metadata": {
    "colab": {},
    "colab_type": "code",
    "id": "vc0xZ6Hxjk6j"
   },
   "outputs": [],
   "source": [
    "\n",
    "\"\"\"\n",
    "def search():\n",
    "  base_output_directory = 'outputs/'\n",
    "  style_layer_sets = [['conv_1', 'conv_2', 'conv_3', 'conv_4'], ['conv_2', 'conv_3', 'conv_4']]\n",
    "  content_layer_sets = [['conv_3'], ['conv_4']]\n",
    "  iters = [0, 100, 300, 500, 700, 900, 1000]\n",
    "  style_weights = [1e14, 1e13, 1e12, 1e11, 1e10, 1e9, 1e8]\n",
    "  content_weights = [1]\n",
    "  start_from_contents = [True, False]\n",
    "  \n",
    "  for sl in style_layer_sets:\n",
    "    for cl in content_layer_sets:\n",
    "      for sw in style_weights:\n",
    "        for cw in content_weights:\n",
    "          for sfc in start_from_contents:\n",
    "            for r in ['r', 'nr']:\n",
    "              out_dir = os.path.join(\n",
    "                  base_output_directory, \n",
    "                  'sl_{}__cl_{}'.format(\"_\".join(sl), \"_\".join(cl)),\n",
    "                  'sfc{}'.format(sfc),\n",
    "                  )\n",
    "              create_dir(out_dir)\n",
    "              fn = 'sw{}_cw{}_{}'.format(sw, cw, r)\n",
    "              print('starting', out_dir, fn)\n",
    "              _, outs = style_transfer(\n",
    "                ResNetStyleTransferModel(robust_resnet if r == 'r' else reg_resnet, dataset.mean, dataset.std), \n",
    "                content_img, style_img, start_from_content=sfc, n_iters=iters, style_weight=sw, content_weight=cw,\n",
    "                content_layers=cl, style_layers=sl, opt='LBFGS', verbose=False)\n",
    "              for im, i in zip(outs, iters):\n",
    "                im.save(os.path.join(out_dir, fn+'_{}.jpg').format(i), 'JPEG')\n",
    "search()\n",
    "\n",
    "\"\"\"\n"
   ]
  },
  {
   "cell_type": "code",
   "execution_count": null,
   "metadata": {
    "colab": {},
    "colab_type": "code",
    "id": "xslswY4uQ1Rp"
   },
   "outputs": [],
   "source": [
    "\"\"\"\n",
    "def search():\n",
    "  base_output_directory = 'outputs_vgg/'\n",
    "  style_layer_sets = [['conv_1', 'conv_3', 'conv_5', 'conv_9', 'conv_13']]\n",
    "  content_layer_sets = [['conv_10']]\n",
    "  iters = [0, 100, 300, 500, 700, 900, 1000]\n",
    "  style_weights = [1e10, 1e9, 1e8, 1e7, 1e6, 1e5, 1e4]\n",
    "  content_weights = [1]\n",
    "  start_from_contents = [True, False]\n",
    "  \n",
    "  for sl in style_layer_sets:\n",
    "    for cl in content_layer_sets:\n",
    "      for sw in style_weights:\n",
    "        for cw in content_weights:\n",
    "          for sfc in start_from_contents:\n",
    "              out_dir = os.path.join(\n",
    "                  base_output_directory, \n",
    "                  'sl_{}__cl_{}'.format(\"_\".join(sl), \"_\".join(cl)),\n",
    "                  'sfc{}'.format(sfc),\n",
    "                  )\n",
    "              create_dir(out_dir)\n",
    "              fn = 'sw{}_cw{}'.format(sw, cw)\n",
    "              print('starting', out_dir, fn)\n",
    "              _, outs = style_transfer(\n",
    "                VGGStyleTransferModel(vgg, dataset.mean, dataset.std), \n",
    "                content_img, style_img, start_from_content=sfc, n_iters=iters, style_weight=sw, content_weight=cw,\n",
    "                content_layers=cl, style_layers=sl, opt='LBFGS', verbose=False)\n",
    "              for im, i in zip(outs, iters):\n",
    "                im.save(os.path.join(out_dir, fn+'_{}.jpg').format(i), 'JPEG')\n",
    "search()\n",
    "\"\"\""
   ]
  }
 ],
 "metadata": {
  "accelerator": "GPU",
  "colab": {
   "collapsed_sections": [],
   "name": "Copy of Robust Neural Style Transfer.ipynb",
   "provenance": [
    {
     "file_id": "https://github.com/reiinakano/adversarially-robust-neural-style-transfer/blob/master/Robust_Neural_Style_Transfer.ipynb",
     "timestamp": 1561493248491
    }
   ],
   "toc_visible": true,
   "version": "0.3.2"
  },
  "kernelspec": {
   "display_name": "Python 3",
   "language": "python",
   "name": "python3"
  },
  "language_info": {
   "codemirror_mode": {
    "name": "ipython",
    "version": 3
   },
   "file_extension": ".py",
   "mimetype": "text/x-python",
   "name": "python",
   "nbconvert_exporter": "python",
   "pygments_lexer": "ipython3",
   "version": "3.6.7"
  }
 },
 "nbformat": 4,
 "nbformat_minor": 1
}
